{
 "cells": [
  {
   "cell_type": "markdown",
   "source": [
    "# Norway"
   ],
   "metadata": {
    "collapsed": false
   }
  },
  {
   "cell_type": "markdown",
   "source": [
    "---\n",
    "## Short facts\n",
    "\n",
    "- Total Area: 385,207 km<sup>2</sup>\n",
    "- Population: 5,425,270 (2022 estimate)\n",
    "- Government: Unitary parliamentary constitutional monarchy\n",
    "\n",
    "---"
   ],
   "metadata": {
    "collapsed": false
   }
  },
  {
   "cell_type": "markdown",
   "source": [
    "## Flag"
   ],
   "metadata": {
    "collapsed": false
   }
  },
  {
   "cell_type": "code",
   "execution_count": 8,
   "outputs": [
    {
     "data": {
      "text/plain": "<IPython.core.display.HTML object>",
      "text/html": "<svg viewBox=\"0 0 22 16\">\n\t<rect width=\"22\" height=\"16\" fill=\"#ba0c2f\"/>\n\t<g fill=\"#fff\">\n\t\t<rect width=\"4\" height=\"16\" x=\"6\"/>\n\t\t<rect width=\"22\" height=\"4\" y=\"6\"/>\n\t</g>\n\t<g fill=\"#00205b\">\n\t\t<rect width=\"2\" height=\"16\" x=\"7\"/>\n\t\t<rect width=\"22\" height=\"2\" y=\"7\"/>\n\t</g>\n</svg>\n"
     },
     "metadata": {},
     "output_type": "display_data"
    }
   ],
   "source": [
    "%%HTML\n",
    "<svg viewBox=\"0 0 22 16\">\n",
    "\t<rect width=\"22\" height=\"16\" fill=\"#ba0c2f\"/>\n",
    "\t<g fill=\"#fff\">\n",
    "\t\t<rect width=\"4\" height=\"16\" x=\"6\"/>\n",
    "\t\t<rect width=\"22\" height=\"4\" y=\"6\"/>\n",
    "\t</g>\n",
    "\t<g fill=\"#00205b\">\n",
    "\t\t<rect width=\"2\" height=\"16\" x=\"7\"/>\n",
    "\t\t<rect width=\"22\" height=\"2\" y=\"7\"/>\n",
    "\t</g>\n",
    "</svg>"
   ],
   "metadata": {
    "collapsed": false
   }
  },
  {
   "cell_type": "markdown",
   "source": [
    "## Famous personalities\n",
    "\n",
    "| Name                                                                 | Picture                                                                                                                                                                                | Details                                                                                                                                                                                                                                                                                                                                                   |\n",
    "|----------------------------------------------------------------------|----------------------------------------------------------------------------------------------------------------------------------------------------------------------------------------|-----------------------------------------------------------------------------------------------------------------------------------------------------------------------------------------------------------------------------------------------------------------------------------------------------------------------------------------------------------|\n",
    "| [Niels Henrik Abel](https://en.wikipedia.org/wiki/Niels_Henrik_Abel) | ![Niels Henrik Abel](https://upload.wikimedia.org/wikipedia/commons/8/80/Niels_Henrik_Abel.jpg)                                                                                        | Norwegian mathematician who made pioneering contributions in a variety of fields. His most famous single result is the first complete proof demonstrating the impossibility of solving the *general quintic equation* in radicals.                                                                                                                        |\n",
    "| [Edvard Grieg](https://en.wikipedia.org/wiki/Edvard_Grieg)           | ![Edvard Grieg](https://upload.wikimedia.org/wikipedia/commons/thumb/c/c0/Edvard_Grieg_%281888%29_by_Elliot_and_Fry_-_02.jpg/330px-Edvard_Grieg_%281888%29_by_Elliot_and_Fry_-_02.jpg) | Norwegian composer and pianist. He is widely considered one of the foremost Romantic era composers, and his music is part of the standard classical repertoire worldwide.                                                                                                                                                                                 |\n",
    "| [Egil Monn-Iversen](https://en.wikipedia.org/wiki/Egil_Monn-Iversen) | ![Egil Monn-Iversen](https://upload.wikimedia.org/wikipedia/commons/a/ab/The_Monn_Keys_%28cropped%29_-_Egil_Monn-Iversen.jpg)                                                          | Norwegian musician, one of the most influential modern composers in Norway. He has had many important roles in Norwegian music, film, opera, television, comedy and theater. For some time he had so much influence in Norwegian culture that he got the nickname ***The Godfather***, even though he always considered himself a down-to-earth musician. |"
   ],
   "metadata": {
    "collapsed": false
   }
  },
  {
   "cell_type": "code",
   "execution_count": 11,
   "outputs": [
    {
     "data": {
      "text/plain": "<IPython.core.display.HTML object>",
      "text/html": "<style>\n        ul {\n            padding-left: 20px;\n        }\n\n        .landmarks {\n            padding: 30px;\n            border: 2px solid #ccc;\n            border-radius: 10px;\n            color: rgb(29, 122, 30);\n            min-width: 900px;\n        }\n\n        .landmark-section {\n            display: grid;\n            grid-row: 1;\n            row-gap: 20px;\n        }\n\n        .landmark {\n            padding: 20px 5px;\n            border: 1px solid #333;\n            border-radius: 15px;\n            color: rgb(155, 179, 22);\n            text-align: center;\n        }\n\n        .landmark img {\n            max-width: 800px;\n            border-radius: 20px;\n            box-shadow: 10px 10px 5px rgba(0, 0, 0, 0.196);\n        }\n    </style>\n<div>\n    <h2>Famous historical landmarks</h2>\n\n    <div class=\"landmarks\">\n        <ul>\n            <li>\n                <h3>Buildings</h3>\n                <ul class=\"landmark-section\">\n                    <li>\n                        <div class=\"landmark\">\n                            <h3>Bryggen</h3>\n                            <img src=\"https://viatravelers.com/wp-content/uploads/2022/09/bergen.jpg.webp\"\n                                alt=\"Bryggen\">\n                        </div>\n                    </li>\n                    <li>\n                        <div class=\"landmark\">\n                            <h3>Akershus Fortress</h3>\n                            <img src=\"https://viatravelers.com/wp-content/uploads/2021/08/Akershus-Fortress-Norway.jpg.webp\"\n                                alt=\"Akershus Fortress\">\n                        </div>\n                    </li>\n                    <li>\n                        <div class=\"landmark\">\n                            <h3>Maihaugen</h3>\n                            <img src=\"https://viatravelers.com/wp-content/uploads/2022/09/maihaugen-folk-museum.jpg.webp\"\n                                alt=\"Maihaugen\">\n                        </div>\n                    </li>\n                </ul>\n            </li>\n            <li>\n                <h3>Parks</h3>\n                <ul class=\"landmark-section\">\n                    <li>\n                        <div class=\"landmark\">\n                            <h3>Frogner Park</h3>\n                            <img src=\"img/statue-in-frogner-park.jpg\"\n                                alt=\"Frogner Park\">\n                        </div>\n                    </li>\n                    <li>\n                        <div class=\"landmark\">\n                            <h3>Hardangervidda National Park</h3>\n                            <img src=\"img/hardangervidda-national-park.jpg\"\n                                alt=\"Hardangervidda National Park\">\n                        </div>\n                    </li>\n                    <li>\n                        <div class=\"landmark\">\n                            <h3>Jotunheimen National Park</h3>\n                            <img src=\"img/jotunheimen-national-park-norway.jpg\"\n                                alt=\"Jotunheimen National Park\">\n                        </div>\n                    </li>\n                </ul>\n            </li>\n        </ul>\n    </div>\n</div>\n"
     },
     "metadata": {},
     "output_type": "display_data"
    }
   ],
   "source": [
    "%%HTML\n",
    "<style>\n",
    "        ul {\n",
    "            padding-left: 20px;\n",
    "        }\n",
    "\n",
    "        .landmarks {\n",
    "            padding: 30px;\n",
    "            border: 2px solid #ccc;\n",
    "            border-radius: 10px;\n",
    "            color: rgb(29, 122, 30);\n",
    "            min-width: 900px;\n",
    "        }\n",
    "\n",
    "        .landmark-section {\n",
    "            display: grid;\n",
    "            grid-row: 1;\n",
    "            row-gap: 20px;\n",
    "        }\n",
    "\n",
    "        .landmark {\n",
    "            padding: 20px 5px;\n",
    "            border: 1px solid #333;\n",
    "            border-radius: 15px;\n",
    "            color: rgb(155, 179, 22);\n",
    "            text-align: center;\n",
    "        }\n",
    "\n",
    "        .landmark img {\n",
    "            max-width: 800px;\n",
    "            border-radius: 20px;\n",
    "            box-shadow: 10px 10px 5px rgba(0, 0, 0, 0.196);\n",
    "        }\n",
    "    </style>\n",
    "<div>\n",
    "    <h2>Famous historical landmarks</h2>\n",
    "\n",
    "    <div class=\"landmarks\">\n",
    "        <ul>\n",
    "            <li>\n",
    "                <h3>Buildings</h3>\n",
    "                <ul class=\"landmark-section\">\n",
    "                    <li>\n",
    "                        <div class=\"landmark\">\n",
    "                            <h3>Bryggen</h3>\n",
    "                            <img src=\"https://viatravelers.com/wp-content/uploads/2022/09/bergen.jpg.webp\"\n",
    "                                alt=\"Bryggen\">\n",
    "                        </div>\n",
    "                    </li>\n",
    "                    <li>\n",
    "                        <div class=\"landmark\">\n",
    "                            <h3>Akershus Fortress</h3>\n",
    "                            <img src=\"https://viatravelers.com/wp-content/uploads/2021/08/Akershus-Fortress-Norway.jpg.webp\"\n",
    "                                alt=\"Akershus Fortress\">\n",
    "                        </div>\n",
    "                    </li>\n",
    "                    <li>\n",
    "                        <div class=\"landmark\">\n",
    "                            <h3>Maihaugen</h3>\n",
    "                            <img src=\"https://viatravelers.com/wp-content/uploads/2022/09/maihaugen-folk-museum.jpg.webp\"\n",
    "                                alt=\"Maihaugen\">\n",
    "                        </div>\n",
    "                    </li>\n",
    "                </ul>\n",
    "            </li>\n",
    "            <li>\n",
    "                <h3>Parks</h3>\n",
    "                <ul class=\"landmark-section\">\n",
    "                    <li>\n",
    "                        <div class=\"landmark\">\n",
    "                            <h3>Frogner Park</h3>\n",
    "                            <img src=\"img/statue-in-frogner-park.jpg\"\n",
    "                                alt=\"Frogner Park\">\n",
    "                        </div>\n",
    "                    </li>\n",
    "                    <li>\n",
    "                        <div class=\"landmark\">\n",
    "                            <h3>Hardangervidda National Park</h3>\n",
    "                            <img src=\"img/hardangervidda-national-park.jpg\"\n",
    "                                alt=\"Hardangervidda National Park\">\n",
    "                        </div>\n",
    "                    </li>\n",
    "                    <li>\n",
    "                        <div class=\"landmark\">\n",
    "                            <h3>Jotunheimen National Park</h3>\n",
    "                            <img src=\"img/jotunheimen-national-park-norway.jpg\"\n",
    "                                alt=\"Jotunheimen National Park\">\n",
    "                        </div>\n",
    "                    </li>\n",
    "                </ul>\n",
    "            </li>\n",
    "        </ul>\n",
    "    </div>\n",
    "</div>"
   ],
   "metadata": {
    "collapsed": false
   }
  },
  {
   "cell_type": "code",
   "execution_count": 9,
   "outputs": [],
   "source": [],
   "metadata": {
    "collapsed": false
   }
  }
 ],
 "metadata": {
  "kernelspec": {
   "display_name": "Python 3",
   "language": "python",
   "name": "python3"
  },
  "language_info": {
   "codemirror_mode": {
    "name": "ipython",
    "version": 2
   },
   "file_extension": ".py",
   "mimetype": "text/x-python",
   "name": "python",
   "nbconvert_exporter": "python",
   "pygments_lexer": "ipython2",
   "version": "2.7.6"
  }
 },
 "nbformat": 4,
 "nbformat_minor": 0
}
