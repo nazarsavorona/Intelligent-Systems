{
 "cells": [
  {
   "cell_type": "markdown",
   "source": [
    "Implement algorithm to define whether input number $N$ is a sum of two squares of natural numbers.\n",
    "That is, define integers $a$ and $b$ that $a^2 + b^2 = N$.\n",
    "If there is no solution print corresponding message."
   ],
   "metadata": {
    "collapsed": false
   }
  },
  {
   "cell_type": "code",
   "execution_count": 48,
   "outputs": [],
   "source": [
    "from math import sqrt, floor"
   ],
   "metadata": {
    "collapsed": false
   }
  },
  {
   "cell_type": "code",
   "execution_count": 49,
   "outputs": [],
   "source": [
    "def squares(n: int) -> (int, int, bool):\n",
    "    sn = floor(sqrt(n))\n",
    "\n",
    "    for i in reversed(range(1, sn + 1)):\n",
    "        si = i * i\n",
    "        j = floor(sqrt(n - si))\n",
    "        if j > 0 and si + j * j == n:\n",
    "            return i, j, True\n",
    "\n",
    "    return -1, -1, False"
   ],
   "metadata": {
    "collapsed": false
   }
  },
  {
   "cell_type": "code",
   "execution_count": 50,
   "outputs": [],
   "source": [
    "def task_10():\n",
    "    cases = [21, 45, 15, 64, 481, 72, \"string\", 123.42]\n",
    "\n",
    "    for case in cases:\n",
    "        print(case)\n",
    "        if not isinstance(case, int):\n",
    "            print(\"Error: invalid input type\")\n",
    "            continue\n",
    "\n",
    "        a, b, is_possible = squares(case)\n",
    "        if is_possible:\n",
    "            print(f'{a}^2 + {b}^2 = {case}')\n",
    "        else:\n",
    "            print(f'Number {case} cannot be presented as a sum of two squares of natural numbers')"
   ],
   "metadata": {
    "collapsed": false
   }
  },
  {
   "cell_type": "code",
   "execution_count": 51,
   "outputs": [
    {
     "name": "stdout",
     "output_type": "stream",
     "text": [
      "21\n",
      "Number 21 cannot be presented as a sum of two squares of natural numbers\n",
      "45\n",
      "6^2 + 3^2 = 45\n",
      "15\n",
      "Number 15 cannot be presented as a sum of two squares of natural numbers\n",
      "64\n",
      "Number 64 cannot be presented as a sum of two squares of natural numbers\n",
      "481\n",
      "20^2 + 9^2 = 481\n",
      "72\n",
      "6^2 + 6^2 = 72\n",
      "string\n",
      "Error: invalid input type\n",
      "123.42\n",
      "Error: invalid input type\n"
     ]
    }
   ],
   "source": [
    "task_10()"
   ],
   "metadata": {
    "collapsed": false
   }
  }
 ],
 "metadata": {
  "kernelspec": {
   "display_name": "Python 3",
   "language": "python",
   "name": "python3"
  },
  "language_info": {
   "codemirror_mode": {
    "name": "ipython",
    "version": 2
   },
   "file_extension": ".py",
   "mimetype": "text/x-python",
   "name": "python",
   "nbconvert_exporter": "python",
   "pygments_lexer": "ipython2",
   "version": "2.7.6"
  }
 },
 "nbformat": 4,
 "nbformat_minor": 0
}
