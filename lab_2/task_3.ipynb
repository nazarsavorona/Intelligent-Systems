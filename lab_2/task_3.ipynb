{
 "cells": [
  {
   "cell_type": "markdown",
   "source": [
    "# Task 3 (Variant 10)"
   ],
   "metadata": {
    "collapsed": false
   }
  },
  {
   "cell_type": "markdown",
   "source": [
    "$$\n",
    "3 (A^2 - B^2) - 2AB,\n",
    "$$\n",
    "\n",
    "$$\n",
    "where \\ A =\n",
    "\n",
    "\\begin{pmatrix}\n",
    "4 & 2 & 1 \\\\\n",
    "3 & -2 & 0 \\\\\n",
    "0 & 1 & 2\n",
    "\\end{pmatrix}\n",
    "\n",
    ", \\ B =\n",
    "\n",
    "\\begin{pmatrix}\n",
    "2 & 0 & 2 \\\\\n",
    "5 & -7 & -2 \\\\\n",
    "1 & 0 & -1\n",
    "\\end{pmatrix}\n",
    "$$"
   ],
   "metadata": {
    "collapsed": false
   }
  },
  {
   "cell_type": "markdown",
   "source": [
    "\n",
    "Calculate matrix expression using\n",
    "- NumPy library\n",
    "- Iterative constructions (cycles, list comprehension etc.)\n",
    "- For each case measure execution time and make a conclusion\n",
    "\n",
    "#### Compare each solution using `numpy.allclose()`"
   ],
   "metadata": {
    "collapsed": false
   }
  }
 ],
 "metadata": {
  "kernelspec": {
   "display_name": "Python 3 (ipykernel)",
   "language": "python",
   "name": "python3"
  },
  "language_info": {
   "codemirror_mode": {
    "name": "ipython",
    "version": 3
   },
   "file_extension": ".py",
   "mimetype": "text/x-python",
   "name": "python",
   "nbconvert_exporter": "python",
   "pygments_lexer": "ipython3",
   "version": "3.9.13"
  }
 },
 "nbformat": 4,
 "nbformat_minor": 1
}
